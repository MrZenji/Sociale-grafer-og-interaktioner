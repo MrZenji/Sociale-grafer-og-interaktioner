{
 "metadata": {
  "name": ""
 },
 "nbformat": 3,
 "nbformat_minor": 0,
 "worksheets": [
  {
   "cells": [
    {
     "cell_type": "code",
     "collapsed": false,
     "input": [
      "import twitter\n",
      "from twitter import *\n",
      "import time\n",
      "import json\n",
      "from datetime import datetime\n",
      "\n",
      "CONSUMER_KEY = 'mI7Q6B0aLgQGhdKLR6VlaWy9Y'\n",
      "CONSUMER_SECRET ='IPLDw6vgSnrvvRl9dobYCsUkiXD38iHMMwXERDoXpgTO2qj4XK'\n",
      "OAUTH_TOKEN = '2787613616-ysSGXpAxDtfBLSLepDMuBEQisL5YZunwPs05t89'\n",
      "OAUTH_TOKEN_SECRET = 'KrHgyaTcAeihSyQX7DbCdvc6vc5r6B1PjmgziNUgC1aI9'\n",
      "\n",
      "auth = twitter.oauth.OAuth(OAUTH_TOKEN, OAUTH_TOKEN_SECRET,\n",
      "                           CONSUMER_KEY, CONSUMER_SECRET)\n",
      "\n",
      "twitter_api = twitter.Twitter(auth=auth)\n",
      "users = open(\"bad.txt\",\"r\")\n",
      "look_up=\"\"\n",
      "listOfPeople=[]\n",
      "\n",
      "def createdAt(data):\n",
      "    date = data[\"created_at\"]\n",
      "    thedate = datetime.strptime(date, \"%a %b %d %H:%M:%S +0000 %Y\")\n",
      "    return str(thedate.month)+\"/\"+str(thedate.year)\n",
      "    \n",
      "for user in users:\n",
      "    listOfPeople.append(user)\n",
      "\n",
      "listOfPeople=sorted(set(listOfPeople))\n",
      "data ={\"users\": []}\n",
      "data_from_look_up={}\n",
      "\n",
      "while(len(listOfPeople)!=0):\n",
      "    count =0\n",
      "#while(count<100):\n",
      "    users_to_look_up= \"\"\n",
      "    print len(listOfPeople)\n",
      "    for user in listOfPeople:\n",
      "        if (count<100):\n",
      "            users_to_look_up += user+\",\"\n",
      "            count+=1\n",
      "    listOfPeople=listOfPeople[100:]\n",
      "    data_from_look_up = twitter_api.users.lookup(screen_name=users_to_look_up[0:-1])\n",
      "    for d in data_from_look_up:\n",
      "        data[\"users\"].append({\"screen_name\": d[\"screen_name\"],\"followers_count\": d[\"followers_count\"],\n",
      "                              \"friends_count\": d[\"friends_count\"],\"created_at\": createdAt(d)})\n",
      "users.close()\n",
      "with open('bad.json', 'w') as outfile:\n",
      "    json.dump(data, outfile, indent=1)\n",
      "print \"Done\""
     ],
     "language": "python",
     "metadata": {},
     "outputs": [
      {
       "output_type": "stream",
       "stream": "stdout",
       "text": [
        "869\n",
        "Done"
       ]
      },
      {
       "output_type": "stream",
       "stream": "stdout",
       "text": [
        "\n"
       ]
      }
     ],
     "prompt_number": 11
    },
    {
     "cell_type": "code",
     "collapsed": false,
     "input": [
      "import json\n",
      "\n",
      "in_file = open(\"dataTest2.json\",\"r\")\n",
      "new_dict = json.load(in_file)\n",
      "in_file.close()\n",
      "print new_dict[\"users\"][0][\"screen_name\"]"
     ],
     "language": "python",
     "metadata": {},
     "outputs": [
      {
       "output_type": "stream",
       "stream": "stdout",
       "text": [
        "AlexRaySkaggs\n"
       ]
      }
     ],
     "prompt_number": 13
    }
   ],
   "metadata": {}
  }
 ]
}