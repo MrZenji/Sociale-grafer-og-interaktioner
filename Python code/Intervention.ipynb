{
 "metadata": {
  "name": ""
 },
 "nbformat": 3,
 "nbformat_minor": 0,
 "worksheets": [
  {
   "cells": [
    {
     "cell_type": "code",
     "collapsed": false,
     "input": [
      "import twitter\n",
      "from twitter import *\n",
      "import json\n",
      "from datetime import *\n",
      "import time\n",
      "\n",
      "CONSUMER_KEY = 'mI7Q6B0aLgQGhdKLR6VlaWy9Y'\n",
      "CONSUMER_SECRET ='IPLDw6vgSnrvvRl9dobYCsUkiXD38iHMMwXERDoXpgTO2qj4XK'\n",
      "OAUTH_TOKEN = '2787613616-ysSGXpAxDtfBLSLepDMuBEQisL5YZunwPs05t89'\n",
      "OAUTH_TOKEN_SECRET = 'KrHgyaTcAeihSyQX7DbCdvc6vc5r6B1PjmgziNUgC1aI9'\n",
      "\n",
      "auth = twitter.oauth.OAuth(OAUTH_TOKEN, OAUTH_TOKEN_SECRET,\n",
      "                           CONSUMER_KEY, CONSUMER_SECRET)\n",
      "\n",
      "twitter_api = twitter.Twitter(auth=auth)\n",
      "retweetNumb=0\n",
      "first4=0\n",
      "print \"Starting Intervention\"\n",
      "tweets =  twitter_api.search.tweets(q=\"#blackfridaystories\",count=100,lang=\"en\")\n",
      "for t in tweets[\"statuses\"]:\n",
      "    try:\n",
      "        twitter_api.favorites.create(_id=t[\"id\"])\n",
      "        print \"Favoriting \"+ t[\"user\"][\"screen_name\"]+\"'s tweet\"\n",
      "    except:\n",
      "        continue\n",
      "'''\n",
      "    if (first4<4):\n",
      "        try:\n",
      "            twitter_api.statuses.retweet(id=t[\"id\"])\n",
      "            print \"retweeting first4: \"+str(first4)\n",
      "            first4+=1\n",
      "            time.sleep(30)\n",
      "        except:\n",
      "            continue\n",
      "    if t[\"user\"][\"screen_name\"] not in open(\"BotsFromClass.txt\").read():\n",
      "        if (retweetNumb<15):\n",
      "            retweetNumb+=1\n",
      "            print \"retweeting number: \"+str(retweetNumb)\n",
      "            time.sleep(30)\n",
      "            try:\n",
      "                twitter_api.statuses.retweet(id=t[\"id\"])\n",
      "            except:\n",
      "                continue\n",
      "'''"
     ],
     "language": "python",
     "metadata": {},
     "outputs": [
      {
       "output_type": "stream",
       "stream": "stdout",
       "text": [
        "Starting Intervention\n",
        "Favoriting marcussor's tweet"
       ]
      },
      {
       "output_type": "stream",
       "stream": "stdout",
       "text": [
        "\n",
        "Favoriting marcussor's tweet"
       ]
      },
      {
       "output_type": "stream",
       "stream": "stdout",
       "text": [
        "\n",
        "Favoriting marcussor's tweet"
       ]
      },
      {
       "output_type": "stream",
       "stream": "stdout",
       "text": [
        "\n",
        "Favoriting T2Tilliams's tweet"
       ]
      },
      {
       "output_type": "stream",
       "stream": "stdout",
       "text": [
        "\n",
        "Favoriting T2Tilliams's tweet"
       ]
      },
      {
       "output_type": "stream",
       "stream": "stdout",
       "text": [
        "\n",
        "Favoriting T2Tilliams's tweet"
       ]
      },
      {
       "output_type": "stream",
       "stream": "stdout",
       "text": [
        "\n",
        "Favoriting JLabAudio's tweet"
       ]
      },
      {
       "output_type": "stream",
       "stream": "stdout",
       "text": [
        "\n",
        "Favoriting 50travel's tweet"
       ]
      },
      {
       "output_type": "stream",
       "stream": "stdout",
       "text": [
        "\n",
        "Favoriting 50travel's tweet"
       ]
      },
      {
       "output_type": "stream",
       "stream": "stdout",
       "text": [
        "\n",
        "Favoriting 50travel's tweet"
       ]
      },
      {
       "output_type": "stream",
       "stream": "stdout",
       "text": [
        "\n",
        "Favoriting 50travel's tweet"
       ]
      },
      {
       "output_type": "stream",
       "stream": "stdout",
       "text": [
        "\n",
        "Favoriting zoesprings's tweet"
       ]
      },
      {
       "output_type": "stream",
       "stream": "stdout",
       "text": [
        "\n",
        "Favoriting zoesprings's tweet"
       ]
      },
      {
       "output_type": "stream",
       "stream": "stdout",
       "text": [
        "\n",
        "Favoriting zoesprings's tweet"
       ]
      },
      {
       "output_type": "stream",
       "stream": "stdout",
       "text": [
        "\n",
        "Favoriting TheRexyGuy's tweet"
       ]
      },
      {
       "output_type": "stream",
       "stream": "stdout",
       "text": [
        "\n",
        "Favoriting TheRexyGuy's tweet"
       ]
      },
      {
       "output_type": "stream",
       "stream": "stdout",
       "text": [
        "\n",
        "Favoriting TheRexyGuy's tweet"
       ]
      },
      {
       "output_type": "stream",
       "stream": "stdout",
       "text": [
        "\n",
        "Favoriting TheRexyGuy's tweet"
       ]
      },
      {
       "output_type": "stream",
       "stream": "stdout",
       "text": [
        "\n",
        "Favoriting JLabAudio's tweet"
       ]
      },
      {
       "output_type": "stream",
       "stream": "stdout",
       "text": [
        "\n",
        "Favoriting TheRexyGuy's tweet"
       ]
      },
      {
       "output_type": "stream",
       "stream": "stdout",
       "text": [
        "\n",
        "Favoriting TheRexyGuy's tweet"
       ]
      },
      {
       "output_type": "stream",
       "stream": "stdout",
       "text": [
        "\n",
        "Favoriting oookkknnn7's tweet"
       ]
      },
      {
       "output_type": "stream",
       "stream": "stdout",
       "text": [
        "\n",
        "Favoriting matsie_at_dtu's tweet"
       ]
      },
      {
       "output_type": "stream",
       "stream": "stdout",
       "text": [
        "\n",
        "Favoriting LakerolIs's tweet"
       ]
      },
      {
       "output_type": "stream",
       "stream": "stdout",
       "text": [
        "\n",
        "Favoriting LakerolIs's tweet"
       ]
      },
      {
       "output_type": "stream",
       "stream": "stdout",
       "text": [
        "\n",
        "Favoriting LakerolIs's tweet"
       ]
      },
      {
       "output_type": "stream",
       "stream": "stdout",
       "text": [
        "\n",
        "Favoriting LakerolIs's tweet"
       ]
      },
      {
       "output_type": "stream",
       "stream": "stdout",
       "text": [
        "\n",
        "Favoriting LakerolIs's tweet"
       ]
      },
      {
       "output_type": "stream",
       "stream": "stdout",
       "text": [
        "\n",
        "Favoriting LakerolIs's tweet"
       ]
      },
      {
       "output_type": "stream",
       "stream": "stdout",
       "text": [
        "\n",
        "Favoriting LakerolIs's tweet"
       ]
      },
      {
       "output_type": "stream",
       "stream": "stdout",
       "text": [
        "\n",
        "Favoriting LakerolIs's tweet"
       ]
      },
      {
       "output_type": "stream",
       "stream": "stdout",
       "text": [
        "\n",
        "Favoriting LakerolIs's tweet"
       ]
      },
      {
       "output_type": "stream",
       "stream": "stdout",
       "text": [
        "\n"
       ]
      },
      {
       "metadata": {},
       "output_type": "pyout",
       "prompt_number": 1,
       "text": [
        "'\\n    if (first4<4):\\n        try:\\n            twitter_api.statuses.retweet(id=t[\"id\"])\\n            print \"retweeting first4: \"+str(first4)\\n            first4+=1\\n            time.sleep(30)\\n        except:\\n            continue\\n    if t[\"user\"][\"screen_name\"] not in open(\"BotsFromClass.txt\").read():\\n        if (retweetNumb<15):\\n            retweetNumb+=1\\n            print \"retweeting number: \"+str(retweetNumb)\\n            time.sleep(30)\\n            try:\\n                twitter_api.statuses.retweet(id=t[\"id\"])\\n            except:\\n                continue\\n'"
       ]
      }
     ],
     "prompt_number": 1
    },
    {
     "cell_type": "code",
     "collapsed": false,
     "input": [
      "import twitter\n",
      "from twitter import *\n",
      "import json\n",
      "from datetime import *\n",
      "\n",
      "CONSUMER_KEY = 'mI7Q6B0aLgQGhdKLR6VlaWy9Y'\n",
      "CONSUMER_SECRET ='IPLDw6vgSnrvvRl9dobYCsUkiXD38iHMMwXERDoXpgTO2qj4XK'\n",
      "OAUTH_TOKEN = '2787613616-ysSGXpAxDtfBLSLepDMuBEQisL5YZunwPs05t89'\n",
      "OAUTH_TOKEN_SECRET = 'KrHgyaTcAeihSyQX7DbCdvc6vc5r6B1PjmgziNUgC1aI9'\n",
      "\n",
      "auth = twitter.oauth.OAuth(OAUTH_TOKEN, OAUTH_TOKEN_SECRET,\n",
      "                           CONSUMER_KEY, CONSUMER_SECRET)\n",
      "\n",
      "twitter_api = twitter.Twitter(auth=auth)\n",
      "\n",
      "twitter_api.search.tweets(q=\"#highfiveastranger\",count=2,lang=\"en\") "
     ],
     "language": "python",
     "metadata": {},
     "outputs": [
      {
       "metadata": {},
       "output_type": "pyout",
       "prompt_number": 2,
       "text": [
        "{u'search_metadata': {u'completed_in': 0.03,\n",
        "  u'count': 2,\n",
        "  u'max_id': 534441892981645313,\n",
        "  u'max_id_str': u'534441892981645313',\n",
        "  u'next_results': u'?max_id=534441756616429567&q=%23highfiveastranger&lang=en&count=2&include_entities=1',\n",
        "  u'query': u'%23highfiveastranger',\n",
        "  u'refresh_url': u'?since_id=534441892981645313&q=%23highfiveastranger&lang=en&include_entities=1',\n",
        "  u'since_id': 0,\n",
        "  u'since_id_str': u'0'},\n",
        " u'statuses': [{u'contributors': None,\n",
        "   u'coordinates': None,\n",
        "   u'created_at': u'Mon Nov 17 20:24:11 +0000 2014',\n",
        "   u'entities': {u'hashtags': [{u'indices': [15, 33],\n",
        "      u'text': u'highfiveastranger'},\n",
        "     {u'indices': [46, 64], u'text': u'highfiveastranger'}],\n",
        "    u'symbols': [],\n",
        "    u'urls': [],\n",
        "    u'user_mentions': [{u'id': 2787540506,\n",
        "      u'id_str': u'2787540506',\n",
        "      u'indices': [3, 13],\n",
        "      u'name': u'James Lee Wong',\n",
        "      u'screen_name': u'wongytong'}]},\n",
        "   u'favorite_count': 0,\n",
        "   u'favorited': False,\n",
        "   u'geo': None,\n",
        "   u'id': 534441892981645313,\n",
        "   u'id_str': u'534441892981645313',\n",
        "   u'in_reply_to_screen_name': None,\n",
        "   u'in_reply_to_status_id': None,\n",
        "   u'in_reply_to_status_id_str': None,\n",
        "   u'in_reply_to_user_id': None,\n",
        "   u'in_reply_to_user_id_str': None,\n",
        "   u'lang': u'en',\n",
        "   u'metadata': {u'iso_language_code': u'en', u'result_type': u'recent'},\n",
        "   u'place': None,\n",
        "   u'retweet_count': 6,\n",
        "   u'retweeted': False,\n",
        "   u'retweeted_status': {u'contributors': None,\n",
        "    u'coordinates': {u'coordinates': [-122.42094122, 37.74910283],\n",
        "     u'type': u'Point'},\n",
        "    u'created_at': u'Mon Nov 17 20:12:03 +0000 2014',\n",
        "    u'entities': {u'hashtags': [{u'indices': [0, 18],\n",
        "       u'text': u'highfiveastranger'},\n",
        "      {u'indices': [31, 49], u'text': u'highfiveastranger'}],\n",
        "     u'symbols': [],\n",
        "     u'urls': [],\n",
        "     u'user_mentions': []},\n",
        "    u'favorite_count': 6,\n",
        "    u'favorited': False,\n",
        "    u'geo': {u'coordinates': [37.74910283, -122.42094122], u'type': u'Point'},\n",
        "    u'id': 534438841650659329,\n",
        "    u'id_str': u'534438841650659329',\n",
        "    u'in_reply_to_screen_name': None,\n",
        "    u'in_reply_to_status_id': None,\n",
        "    u'in_reply_to_status_id_str': None,\n",
        "    u'in_reply_to_user_id': None,\n",
        "    u'in_reply_to_user_id_str': None,\n",
        "    u'lang': u'en',\n",
        "    u'metadata': {u'iso_language_code': u'en', u'result_type': u'recent'},\n",
        "    u'place': {u'attributes': {},\n",
        "     u'bounding_box': {u'coordinates': [[[-122.514926, 37.708075],\n",
        "        [-122.357031, 37.708075],\n",
        "        [-122.357031, 37.833238],\n",
        "        [-122.514926, 37.833238]]],\n",
        "      u'type': u'Polygon'},\n",
        "     u'contained_within': [],\n",
        "     u'country': u'United States',\n",
        "     u'country_code': u'US',\n",
        "     u'full_name': u'San Francisco, CA',\n",
        "     u'id': u'5a110d312052166f',\n",
        "     u'name': u'San Francisco',\n",
        "     u'place_type': u'city',\n",
        "     u'url': u'https://api.twitter.com/1.1/geo/id/5a110d312052166f.json'},\n",
        "    u'retweet_count': 6,\n",
        "    u'retweeted': False,\n",
        "    u'source': u'<a href=\"http://www.imdb.com/title/tt1475582/?ref_=fn_al_tt_1\" rel=\"nofollow\">Detective Wong</a>',\n",
        "    u'text': u\"#highfiveastranger me here and #highfiveastranger me there. It's awesome!\",\n",
        "    u'truncated': False,\n",
        "    u'user': {u'contributors_enabled': False,\n",
        "     u'created_at': u'Wed Sep 03 08:46:44 +0000 2014',\n",
        "     u'default_profile': False,\n",
        "     u'default_profile_image': False,\n",
        "     u'description': u'Loving it in SF, just started blogging about music so follow me and listen to the chilled tracks and enjoy your time! Find more below!',\n",
        "     u'entities': {u'description': {u'urls': []},\n",
        "      u'url': {u'urls': [{u'display_url': u'soundcloud.com/xlr8r',\n",
        "         u'expanded_url': u'https://soundcloud.com/xlr8r',\n",
        "         u'indices': [0, 23],\n",
        "         u'url': u'https://t.co/2Z2w1XddIg'}]}},\n",
        "     u'favourites_count': 15,\n",
        "     u'follow_request_sent': False,\n",
        "     u'followers_count': 122,\n",
        "     u'following': False,\n",
        "     u'friends_count': 264,\n",
        "     u'geo_enabled': True,\n",
        "     u'id': 2787540506,\n",
        "     u'id_str': u'2787540506',\n",
        "     u'is_translation_enabled': False,\n",
        "     u'is_translator': False,\n",
        "     u'lang': u'en',\n",
        "     u'listed_count': 1,\n",
        "     u'location': u'San Francisco',\n",
        "     u'name': u'James Lee Wong',\n",
        "     u'notifications': False,\n",
        "     u'profile_background_color': u'000000',\n",
        "     u'profile_background_image_url': u'http://abs.twimg.com/images/themes/theme4/bg.gif',\n",
        "     u'profile_background_image_url_https': u'https://abs.twimg.com/images/themes/theme4/bg.gif',\n",
        "     u'profile_background_tile': False,\n",
        "     u'profile_banner_url': u'https://pbs.twimg.com/profile_banners/2787540506/1415263078',\n",
        "     u'profile_image_url': u'http://pbs.twimg.com/profile_images/517302975123816448/zOuyemNX_normal.jpeg',\n",
        "     u'profile_image_url_https': u'https://pbs.twimg.com/profile_images/517302975123816448/zOuyemNX_normal.jpeg',\n",
        "     u'profile_link_color': u'ABB8C2',\n",
        "     u'profile_location': None,\n",
        "     u'profile_sidebar_border_color': u'000000',\n",
        "     u'profile_sidebar_fill_color': u'000000',\n",
        "     u'profile_text_color': u'000000',\n",
        "     u'profile_use_background_image': False,\n",
        "     u'protected': False,\n",
        "     u'screen_name': u'wongytong',\n",
        "     u'statuses_count': 75,\n",
        "     u'time_zone': u'Pacific Time (US & Canada)',\n",
        "     u'url': u'https://t.co/2Z2w1XddIg',\n",
        "     u'utc_offset': -28800,\n",
        "     u'verified': False}},\n",
        "   u'source': u'<a href=\"http://blabla.blablabla.com\" rel=\"nofollow\">socialgraphsfordtu</a>',\n",
        "   u'text': u\"RT @wongytong: #highfiveastranger me here and #highfiveastranger me there. It's awesome!\",\n",
        "   u'truncated': False,\n",
        "   u'user': {u'contributors_enabled': False,\n",
        "    u'created_at': u'Wed Oct 22 19:07:20 +0000 2014',\n",
        "    u'default_profile': False,\n",
        "    u'default_profile_image': False,\n",
        "    u'description': u'25 y/o girl from best city ever, San Francisco. I love to exercise, eat healthy and travel.',\n",
        "    u'entities': {u'description': {u'urls': []}},\n",
        "    u'favourites_count': 128,\n",
        "    u'follow_request_sent': False,\n",
        "    u'followers_count': 296,\n",
        "    u'following': False,\n",
        "    u'friends_count': 660,\n",
        "    u'geo_enabled': True,\n",
        "    u'id': 2841459034,\n",
        "    u'id_str': u'2841459034',\n",
        "    u'is_translation_enabled': False,\n",
        "    u'is_translator': False,\n",
        "    u'lang': u'en',\n",
        "    u'listed_count': 3,\n",
        "    u'location': u'San Francisco',\n",
        "    u'name': u'Zoe Springs',\n",
        "    u'notifications': False,\n",
        "    u'profile_background_color': u'000000',\n",
        "    u'profile_background_image_url': u'http://abs.twimg.com/images/themes/theme1/bg.png',\n",
        "    u'profile_background_image_url_https': u'https://abs.twimg.com/images/themes/theme1/bg.png',\n",
        "    u'profile_background_tile': False,\n",
        "    u'profile_banner_url': u'https://pbs.twimg.com/profile_banners/2841459034/1414005910',\n",
        "    u'profile_image_url': u'http://pbs.twimg.com/profile_images/525006277491974144/jkDuifjn_normal.png',\n",
        "    u'profile_image_url_https': u'https://pbs.twimg.com/profile_images/525006277491974144/jkDuifjn_normal.png',\n",
        "    u'profile_link_color': u'DD2E44',\n",
        "    u'profile_location': None,\n",
        "    u'profile_sidebar_border_color': u'000000',\n",
        "    u'profile_sidebar_fill_color': u'000000',\n",
        "    u'profile_text_color': u'000000',\n",
        "    u'profile_use_background_image': False,\n",
        "    u'protected': False,\n",
        "    u'screen_name': u'zoesprings',\n",
        "    u'statuses_count': 128,\n",
        "    u'time_zone': u'Pacific Time (US & Canada)',\n",
        "    u'url': None,\n",
        "    u'utc_offset': -28800,\n",
        "    u'verified': False}},\n",
        "  {u'contributors': None,\n",
        "   u'coordinates': None,\n",
        "   u'created_at': u'Mon Nov 17 20:23:38 +0000 2014',\n",
        "   u'entities': {u'hashtags': [{u'indices': [15, 33],\n",
        "      u'text': u'highfiveastranger'},\n",
        "     {u'indices': [46, 64], u'text': u'highfiveastranger'}],\n",
        "    u'symbols': [],\n",
        "    u'urls': [],\n",
        "    u'user_mentions': [{u'id': 2787540506,\n",
        "      u'id_str': u'2787540506',\n",
        "      u'indices': [3, 13],\n",
        "      u'name': u'James Lee Wong',\n",
        "      u'screen_name': u'wongytong'}]},\n",
        "   u'favorite_count': 0,\n",
        "   u'favorited': False,\n",
        "   u'geo': None,\n",
        "   u'id': 534441756616429568,\n",
        "   u'id_str': u'534441756616429568',\n",
        "   u'in_reply_to_screen_name': None,\n",
        "   u'in_reply_to_status_id': None,\n",
        "   u'in_reply_to_status_id_str': None,\n",
        "   u'in_reply_to_user_id': None,\n",
        "   u'in_reply_to_user_id_str': None,\n",
        "   u'lang': u'en',\n",
        "   u'metadata': {u'iso_language_code': u'en', u'result_type': u'recent'},\n",
        "   u'place': None,\n",
        "   u'retweet_count': 6,\n",
        "   u'retweeted': False,\n",
        "   u'retweeted_status': {u'contributors': None,\n",
        "    u'coordinates': {u'coordinates': [-122.42094122, 37.74910283],\n",
        "     u'type': u'Point'},\n",
        "    u'created_at': u'Mon Nov 17 20:12:03 +0000 2014',\n",
        "    u'entities': {u'hashtags': [{u'indices': [0, 18],\n",
        "       u'text': u'highfiveastranger'},\n",
        "      {u'indices': [31, 49], u'text': u'highfiveastranger'}],\n",
        "     u'symbols': [],\n",
        "     u'urls': [],\n",
        "     u'user_mentions': []},\n",
        "    u'favorite_count': 6,\n",
        "    u'favorited': False,\n",
        "    u'geo': {u'coordinates': [37.74910283, -122.42094122], u'type': u'Point'},\n",
        "    u'id': 534438841650659329,\n",
        "    u'id_str': u'534438841650659329',\n",
        "    u'in_reply_to_screen_name': None,\n",
        "    u'in_reply_to_status_id': None,\n",
        "    u'in_reply_to_status_id_str': None,\n",
        "    u'in_reply_to_user_id': None,\n",
        "    u'in_reply_to_user_id_str': None,\n",
        "    u'lang': u'en',\n",
        "    u'metadata': {u'iso_language_code': u'en', u'result_type': u'recent'},\n",
        "    u'place': {u'attributes': {},\n",
        "     u'bounding_box': {u'coordinates': [[[-122.514926, 37.708075],\n",
        "        [-122.357031, 37.708075],\n",
        "        [-122.357031, 37.833238],\n",
        "        [-122.514926, 37.833238]]],\n",
        "      u'type': u'Polygon'},\n",
        "     u'contained_within': [],\n",
        "     u'country': u'United States',\n",
        "     u'country_code': u'US',\n",
        "     u'full_name': u'San Francisco, CA',\n",
        "     u'id': u'5a110d312052166f',\n",
        "     u'name': u'San Francisco',\n",
        "     u'place_type': u'city',\n",
        "     u'url': u'https://api.twitter.com/1.1/geo/id/5a110d312052166f.json'},\n",
        "    u'retweet_count': 6,\n",
        "    u'retweeted': False,\n",
        "    u'source': u'<a href=\"http://www.imdb.com/title/tt1475582/?ref_=fn_al_tt_1\" rel=\"nofollow\">Detective Wong</a>',\n",
        "    u'text': u\"#highfiveastranger me here and #highfiveastranger me there. It's awesome!\",\n",
        "    u'truncated': False,\n",
        "    u'user': {u'contributors_enabled': False,\n",
        "     u'created_at': u'Wed Sep 03 08:46:44 +0000 2014',\n",
        "     u'default_profile': False,\n",
        "     u'default_profile_image': False,\n",
        "     u'description': u'Loving it in SF, just started blogging about music so follow me and listen to the chilled tracks and enjoy your time! Find more below!',\n",
        "     u'entities': {u'description': {u'urls': []},\n",
        "      u'url': {u'urls': [{u'display_url': u'soundcloud.com/xlr8r',\n",
        "         u'expanded_url': u'https://soundcloud.com/xlr8r',\n",
        "         u'indices': [0, 23],\n",
        "         u'url': u'https://t.co/2Z2w1XddIg'}]}},\n",
        "     u'favourites_count': 15,\n",
        "     u'follow_request_sent': False,\n",
        "     u'followers_count': 122,\n",
        "     u'following': False,\n",
        "     u'friends_count': 264,\n",
        "     u'geo_enabled': True,\n",
        "     u'id': 2787540506,\n",
        "     u'id_str': u'2787540506',\n",
        "     u'is_translation_enabled': False,\n",
        "     u'is_translator': False,\n",
        "     u'lang': u'en',\n",
        "     u'listed_count': 1,\n",
        "     u'location': u'San Francisco',\n",
        "     u'name': u'James Lee Wong',\n",
        "     u'notifications': False,\n",
        "     u'profile_background_color': u'000000',\n",
        "     u'profile_background_image_url': u'http://abs.twimg.com/images/themes/theme4/bg.gif',\n",
        "     u'profile_background_image_url_https': u'https://abs.twimg.com/images/themes/theme4/bg.gif',\n",
        "     u'profile_background_tile': False,\n",
        "     u'profile_banner_url': u'https://pbs.twimg.com/profile_banners/2787540506/1415263078',\n",
        "     u'profile_image_url': u'http://pbs.twimg.com/profile_images/517302975123816448/zOuyemNX_normal.jpeg',\n",
        "     u'profile_image_url_https': u'https://pbs.twimg.com/profile_images/517302975123816448/zOuyemNX_normal.jpeg',\n",
        "     u'profile_link_color': u'ABB8C2',\n",
        "     u'profile_location': None,\n",
        "     u'profile_sidebar_border_color': u'000000',\n",
        "     u'profile_sidebar_fill_color': u'000000',\n",
        "     u'profile_text_color': u'000000',\n",
        "     u'profile_use_background_image': False,\n",
        "     u'protected': False,\n",
        "     u'screen_name': u'wongytong',\n",
        "     u'statuses_count': 75,\n",
        "     u'time_zone': u'Pacific Time (US & Canada)',\n",
        "     u'url': u'https://t.co/2Z2w1XddIg',\n",
        "     u'utc_offset': -28800,\n",
        "     u'verified': False}},\n",
        "   u'source': u'<a href=\"http://www.SocialGraphs.ru\" rel=\"nofollow\">TheSocialGrapsApp</a>',\n",
        "   u'text': u\"RT @wongytong: #highfiveastranger me here and #highfiveastranger me there. It's awesome!\",\n",
        "   u'truncated': False,\n",
        "   u'user': {u'contributors_enabled': False,\n",
        "    u'created_at': u'Wed Sep 03 11:30:51 +0000 2014',\n",
        "    u'default_profile': False,\n",
        "    u'default_profile_image': False,\n",
        "    u'description': u'A 24 y/o girl who just moved to San Francisco! I love photography, hiking, surfing, good food and meeting new people. Go 49ers!',\n",
        "    u'entities': {u'description': {u'urls': []}},\n",
        "    u'favourites_count': 122,\n",
        "    u'follow_request_sent': False,\n",
        "    u'followers_count': 305,\n",
        "    u'following': False,\n",
        "    u'friends_count': 827,\n",
        "    u'geo_enabled': True,\n",
        "    u'id': 2787833887,\n",
        "    u'id_str': u'2787833887',\n",
        "    u'is_translation_enabled': False,\n",
        "    u'is_translator': False,\n",
        "    u'lang': u'en',\n",
        "    u'listed_count': 3,\n",
        "    u'location': u'San Francisco',\n",
        "    u'name': u'Rachel Roberts',\n",
        "    u'notifications': False,\n",
        "    u'profile_background_color': u'000000',\n",
        "    u'profile_background_image_url': u'http://abs.twimg.com/images/themes/theme1/bg.png',\n",
        "    u'profile_background_image_url_https': u'https://abs.twimg.com/images/themes/theme1/bg.png',\n",
        "    u'profile_background_tile': False,\n",
        "    u'profile_banner_url': u'https://pbs.twimg.com/profile_banners/2787833887/1414059523',\n",
        "    u'profile_image_url': u'http://pbs.twimg.com/profile_images/525229312962592770/O7Z9w_cZ_normal.jpeg',\n",
        "    u'profile_image_url_https': u'https://pbs.twimg.com/profile_images/525229312962592770/O7Z9w_cZ_normal.jpeg',\n",
        "    u'profile_link_color': u'DD2E44',\n",
        "    u'profile_location': None,\n",
        "    u'profile_sidebar_border_color': u'000000',\n",
        "    u'profile_sidebar_fill_color': u'000000',\n",
        "    u'profile_text_color': u'000000',\n",
        "    u'profile_use_background_image': False,\n",
        "    u'protected': False,\n",
        "    u'screen_name': u'1Rachel_Roberts',\n",
        "    u'statuses_count': 158,\n",
        "    u'time_zone': u'Ljubljana',\n",
        "    u'url': None,\n",
        "    u'utc_offset': 3600,\n",
        "    u'verified': False}}]}"
       ]
      }
     ],
     "prompt_number": 2
    }
   ],
   "metadata": {}
  }
 ]
}